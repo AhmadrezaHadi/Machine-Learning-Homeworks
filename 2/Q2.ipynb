{
 "cells": [
  {
   "cell_type": "markdown",
   "id": "8d908ecc-1318-4c49-b401-fbde8f7cc735",
   "metadata": {},
   "source": [
    "# Question 2\n",
    "\n",
    "<img src=\"images/2.png\" width=700px>"
   ]
  },
  {
   "cell_type": "code",
   "execution_count": 38,
   "id": "a72dcd26-7d6f-409c-abc7-2b42419befa9",
   "metadata": {},
   "outputs": [],
   "source": [
    "import numpy as np\n",
    "import matplotlib.pyplot as plt"
   ]
  },
  {
   "cell_type": "code",
   "execution_count": 26,
   "id": "97bf1925-77ad-4827-8f81-ab2b0d85c00d",
   "metadata": {},
   "outputs": [],
   "source": [
    "X = np.zeros((2,4)) # features\n",
    "Y = np.zeros((4,1)) # Oxygen\n",
    "W = np.zeros((3,1)) # weights\n",
    "W[0] = -59.5\n",
    "W[1] = -0.15\n",
    "W[2] = 0.60\n",
    "\n",
    "learning_rate = 0.1 # learning_rate\n",
    "X[0] = [41, 42, 37, 46] # age\n",
    "X[1] = [138, 153, 151, 133] # hearbeat\n",
    "X = X.T\n",
    "Y[:,] = np.array([37.99, 47.34, 44.38, 28.17]).reshape(4,1)"
   ]
  },
  {
   "cell_type": "markdown",
   "id": "c1dfbdac-63d6-4917-969d-095df32bd575",
   "metadata": {},
   "source": [
    "**A) Compute Mean Squared Error and Mean Absolute Error**"
   ]
  },
  {
   "cell_type": "code",
   "execution_count": 27,
   "id": "237cf4e2-55b9-48f9-ade4-ac78fefdf49b",
   "metadata": {},
   "outputs": [],
   "source": [
    "def MSE(X, Y, w):\n",
    "    return (1/(2*Y.size)) * np.dot(((np.dot(X, w[1:]) + w[0]) - Y).T, (np.dot(X, w[1:]) + w[0]) - Y).item()\n",
    "def MAE(X, Y, w):\n",
    "    return (1/Y.size) * np.sum(np.abs((np.dot(X, w[1:]) + w[0]) - Y)).item()"
   ]
  },
  {
   "cell_type": "code",
   "execution_count": 28,
   "id": "a2242145-6b9f-4219-923f-6a7c650510f3",
   "metadata": {},
   "outputs": [
    {
     "name": "stdout",
     "output_type": "stream",
     "text": [
      "Mean Squared Error: 182.80287500000014\n",
      "Mean Absolute Error: 18.945000000000007\n"
     ]
    }
   ],
   "source": [
    "print(\"Mean Squared Error:\", MSE(X, Y, W))\n",
    "print(\"Mean Absolute Error:\", MAE(X, Y, W))"
   ]
  },
  {
   "cell_type": "code",
   "execution_count": 29,
   "id": "1324cc26-b092-4474-bf7c-257dbc61d50a",
   "metadata": {},
   "outputs": [],
   "source": [
    "def update_parameters(X, Y, theta, learning_rate):\n",
    "    b = theta[0]\n",
    "    w = theta[1:]\n",
    "    cost = MSE(X, Y, theta)\n",
    "    w = w - (learning_rate * (1/Y.size) * np.sum(np.multiply(X, (np.dot(X, w) + b) - Y)))\n",
    "    b = b - (learning_rate * (1/Y.size) * np.sum((np.dot(X, w) + b) - Y))\n",
    "    theta[0] = b\n",
    "    theta[1:] = w\n",
    "    return theta\n",
    "\n",
    "def SGD(X, Y, learning_rate, theta, num_iter=100):\n",
    "    sgd_costs = []\n",
    "    for i in range(num_iter):\n",
    "        sgd_costs.append(MSE(X, Y, theta))\n",
    "        sample = np.random.randint(0, Y.size)\n",
    "        theta = update_parameters(X[sample], Y[sample], theta, learning_rate)\n",
    "        \n",
    "    \n",
    "    return theta, sgd_costs"
   ]
  },
  {
   "cell_type": "code",
   "execution_count": 30,
   "id": "3dcee0f5-fd21-4be9-aa13-fd91bfd0a68a",
   "metadata": {},
   "outputs": [
    {
     "data": {
      "text/plain": [
       "[182.80287500000014, 66.1221180964909, 23.676788721189308, 18.256480109298845]"
      ]
     },
     "execution_count": 30,
     "metadata": {},
     "output_type": "execute_result"
    }
   ],
   "source": [
    "_ , costs = SGD(X, Y, 0.00001, W, num_iter=4)\n",
    "costs"
   ]
  },
  {
   "cell_type": "code",
   "execution_count": 31,
   "id": "0cdd564e-4215-4be5-8155-5b426f115211",
   "metadata": {},
   "outputs": [],
   "source": [
    "def GD(X, Y, theta, learning_rate, num_iterations):\n",
    "    prev_costs = []\n",
    "    for i in range(num_iterations):\n",
    "        cost = MSE(X, Y, theta)\n",
    "        prev_costs.append(cost)\n",
    "        theta = update_parameters(X, Y, theta, learning_rate)\n",
    "        \n",
    "    \n",
    "    return theta, prev_costs"
   ]
  },
  {
   "cell_type": "code",
   "execution_count": 34,
   "id": "a1bbedd5-276d-4817-b0a1-366dbde8ed82",
   "metadata": {},
   "outputs": [
    {
     "data": {
      "text/plain": [
       "[67650840.41667762]"
      ]
     },
     "execution_count": 34,
     "metadata": {},
     "output_type": "execute_result"
    }
   ],
   "source": [
    "_, gd_costs = GD(X, Y, W, 0.00001, 1)\n",
    "gd_costs"
   ]
  },
  {
   "cell_type": "code",
   "execution_count": 36,
   "id": "25f95cf6-f86d-4d8d-8507-4216c11d49a2",
   "metadata": {},
   "outputs": [
    {
     "data": {
      "text/plain": [
       "False"
      ]
     },
     "execution_count": 36,
     "metadata": {},
     "output_type": "execute_result"
    }
   ],
   "source": [
    "MSE(X, Y, W) > gd_costs[0]"
   ]
  },
  {
   "cell_type": "code",
   "execution_count": 48,
   "id": "d9c1d21d-f645-4879-9f24-1695720b145f",
   "metadata": {},
   "outputs": [],
   "source": [
    "x = np.arange(-1.4, 1.4, 0.1)\n",
    "# x = np.arange(-11, 11, 1)\n",
    "y = (1/2) * x**2"
   ]
  },
  {
   "cell_type": "code",
   "execution_count": 51,
   "id": "4ebbb733-4797-45e1-9ae8-2c22ef88467b",
   "metadata": {},
   "outputs": [
    {
     "data": {
      "image/png": "[encoded data removed]",
      "text/plain": [
       "<Figure size 432x288 with 1 Axes>"
      ]
     },
     "metadata": {
      "needs_background": "light"
     },
     "output_type": "display_data"
    }
   ],
   "source": [
    "plt.plot(x, y)\n",
    "plt.title(\"Function\")\n",
    "plt.xlabel(\"x\")\n",
    "plt.ylabel(\"y\")\n",
    "plt.show()"
   ]
  },
  {
   "cell_type": "code",
   "execution_count": null,
   "id": "4e99bfbf-78b4-4d73-8157-4d58d51f1562",
   "metadata": {},
   "outputs": [],
   "source": []
  }
 ],
 "metadata": {
  "kernelspec": {
   "display_name": "Python 3 (ipykernel)",
   "language": "python",
   "name": "python3"
  },
  "language_info": {
   "codemirror_mode": {
    "name": "ipython",
    "version": 3
   },
   "file_extension": ".py",
   "mimetype": "text/x-python",
   "name": "python",
   "nbconvert_exporter": "python",
   "pygments_lexer": "ipython3",
   "version": "3.9.7"
  }
 },
 "nbformat": 4,
 "nbformat_minor": 5
}
