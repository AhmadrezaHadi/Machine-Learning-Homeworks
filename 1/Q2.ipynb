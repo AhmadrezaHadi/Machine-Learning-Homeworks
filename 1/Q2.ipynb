{
 "cells": [
  {
   "cell_type": "code",
   "execution_count": 1,
   "id": "76b694c6-e854-43d8-9af0-f6818d0660dc",
   "metadata": {},
   "outputs": [],
   "source": [
    "import pandas as pd\n",
    "import numpy as np\n",
    "import matplotlib.pyplot as plt\n",
    "from sklearn.preprocessing import normalize"
   ]
  },
  {
   "cell_type": "code",
   "execution_count": 2,
   "id": "571923ff-0388-465e-b9fe-2bf0f757361f",
   "metadata": {},
   "outputs": [],
   "source": [
    "data = pd.read_csv(\"insurance.csv\")\n",
    "\n",
    "age = data[\"age\"].to_numpy().reshape(1338,1)\n",
    "bmi = data[\"bmi\"].to_numpy().reshape(1338,1)\n",
    "children = data[\"children\"].to_numpy().reshape(1338,1)\n",
    "charges = data[\"charges\"].to_numpy().reshape(1338,1)\n",
    "\n",
    "X = np.ndarray((1338,3), dtype=np.float64)\n",
    "Y = np.ndarray((1338,1), dtype=np.float64)\n",
    "\n",
    "X[:,0] = age[:,0]\n",
    "X[:,1] = bmi[:,0]\n",
    "X[:,2] = children[:,0]\n",
    "X = normalize(X)\n",
    "Y = charges"
   ]
  },
  {
   "cell_type": "code",
   "execution_count": 25,
   "id": "dc6af4a8-b4e8-4726-b1d5-f62ec456ac1b",
   "metadata": {},
   "outputs": [],
   "source": [
    "#GRADIENT DESCENT\n",
    "def gradient_descent(X, Y, theta, learning_rate, num_iterations):\n",
    "    prev_costs = []\n",
    "    prev_thetas = []\n",
    "    for i in range(num_iterations):\n",
    "        prediction = np.dot(X, theta)\n",
    "        error = prediction - Y\n",
    "        cost = 1/(2*m) * np.dot(error.T, error)\n",
    "\n",
    "        prev_costs.append(cost)\n",
    "        theta = theta - (alpha * (1/m) * np.dot(X.T, error))\n",
    "\n",
    "        prev_thetas.append(theta)\n",
    "        \n",
    "    \n",
    "    return prev_thetas, [i[0].item() for i in prev_costs]"
   ]
  },
  {
   "cell_type": "code",
   "execution_count": 32,
   "id": "83b41d71-1b2d-459d-b199-1de85646d085",
   "metadata": {},
   "outputs": [],
   "source": [
    "alpha = 0.01 #Step size\n",
    "iterations = 500 #No. of iterations\n",
    "m = Y.size #No. of data points\n",
    "theta = np.random.rand(3).reshape(3,1) #Pick some random values to start with\n",
    "\n",
    "prev_thetas, prev_costs = gradient_descent(X, Y, theta=theta, num_iterations=iterations, learning_rate=alpha)\n",
    "theta = prev_thetas[-1]"
   ]
  },
  {
   "cell_type": "code",
   "execution_count": 33,
   "id": "00d2fc7e-4b1c-4e98-b16e-6a4489e04eb9",
   "metadata": {},
   "outputs": [
    {
     "data": {
      "image/png": "[encoded data removed]",
      "text/plain": [
       "<Figure size 432x288 with 1 Axes>"
      ]
     },
     "metadata": {
      "needs_background": "light"
     },
     "output_type": "display_data"
    }
   ],
   "source": [
    "plt.title('Cost Function J')\n",
    "plt.xlabel('No. of iterations')\n",
    "plt.ylabel('Cost')\n",
    "plt.plot(prev_costs)\n",
    "plt.show()"
   ]
  },
  {
   "cell_type": "code",
   "execution_count": null,
   "id": "71518254-f2da-415f-9e87-ca22a4822920",
   "metadata": {},
   "outputs": [],
   "source": []
  },
  {
   "cell_type": "code",
   "execution_count": null,
   "id": "e72043fc-0e47-4758-bd05-0b5d45f182e7",
   "metadata": {},
   "outputs": [],
   "source": []
  },
  {
   "cell_type": "code",
   "execution_count": null,
   "id": "04523e80-aef3-4077-8c67-1581f459e1bc",
   "metadata": {},
   "outputs": [],
   "source": []
  },
  {
   "cell_type": "code",
   "execution_count": null,
   "id": "8c28962b-b1f3-4795-a53e-d337db1848cf",
   "metadata": {},
   "outputs": [],
   "source": []
  },
  {
   "cell_type": "code",
   "execution_count": null,
   "id": "b6019b6a-f923-4aeb-adbd-9f7988d457c5",
   "metadata": {},
   "outputs": [],
   "source": []
  },
  {
   "cell_type": "code",
   "execution_count": 137,
   "id": "0b2a6b33-bad0-4429-ac14-9892d28f2c84",
   "metadata": {},
   "outputs": [
    {
     "data": {
      "text/plain": [
       "(1338, 3)"
      ]
     },
     "execution_count": 137,
     "metadata": {},
     "output_type": "execute_result"
    }
   ],
   "source": [
    "X.shape"
   ]
  },
  {
   "cell_type": "code",
   "execution_count": null,
   "id": "88bac6d9-53ff-44d1-bb93-ead8a83c256a",
   "metadata": {},
   "outputs": [],
   "source": []
  },
  {
   "cell_type": "code",
   "execution_count": null,
   "id": "f54d4125-91bb-467a-a752-84ddba215cfe",
   "metadata": {},
   "outputs": [],
   "source": []
  },
  {
   "cell_type": "code",
   "execution_count": null,
   "id": "dafdaee4-90d2-4c2e-a387-9037a4176c64",
   "metadata": {},
   "outputs": [],
   "source": []
  }
 ],
 "metadata": {
  "kernelspec": {
   "display_name": "Python 3 (ipykernel)",
   "language": "python",
   "name": "python3"
  },
  "language_info": {
   "codemirror_mode": {
    "name": "ipython",
    "version": 3
   },
   "file_extension": ".py",
   "mimetype": "text/x-python",
   "name": "python",
   "nbconvert_exporter": "python",
   "pygments_lexer": "ipython3",
   "version": "3.9.7"
  }
 },
 "nbformat": 4,
 "nbformat_minor": 5
}
