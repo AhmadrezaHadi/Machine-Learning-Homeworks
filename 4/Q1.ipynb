{
 "cells": [
  {
   "cell_type": "markdown",
   "id": "7bdcff66-6d26-413d-8251-ff85c686e4ac",
   "metadata": {},
   "source": [
    "# Q1"
   ]
  },
  {
   "cell_type": "code",
   "execution_count": null,
   "id": "3124db19-1304-45e0-849f-0248b4c8c2c1",
   "metadata": {},
   "outputs": [],
   "source": [
    "import pandas as pd\n",
    "from sklearn.model_selection import train_test_split\n",
    "from sklearn.linear_model import LogisticRegression\n",
    "from matplotlib import pyplot as plt\n",
    "import numpy as np"
   ]
  },
  {
   "cell_type": "code",
   "execution_count": null,
   "id": "4c5247e7-e2f9-4337-ad85-58a9a2376c52",
   "metadata": {},
   "outputs": [],
   "source": [
    "df = pd.read_csv(\"Q1.csv\")"
   ]
  },
  {
   "cell_type": "code",
   "execution_count": null,
   "id": "ced922e3-1008-46d0-af6c-fa44c01190d2",
   "metadata": {},
   "outputs": [
    {
     "data": {
      "text/html": [
       "<div>\n",
       "<style scoped>\n",
       "    .dataframe tbody tr th:only-of-type {\n",
       "        vertical-align: middle;\n",
       "    }\n",
       "\n",
       "    .dataframe tbody tr th {\n",
       "        vertical-align: top;\n",
       "    }\n",
       "\n",
       "    .dataframe thead th {\n",
       "        text-align: right;\n",
       "    }\n",
       "</style>\n",
       "<table border=\"1\" class=\"dataframe\">\n",
       "  <thead>\n",
       "    <tr style=\"text-align: right;\">\n",
       "      <th></th>\n",
       "      <th>Oral Test</th>\n",
       "      <th>Written Test</th>\n",
       "      <th>Pass / Fail</th>\n",
       "    </tr>\n",
       "  </thead>\n",
       "  <tbody>\n",
       "    <tr>\n",
       "      <th>0</th>\n",
       "      <td>30.286711</td>\n",
       "      <td>43.894998</td>\n",
       "      <td>0</td>\n",
       "    </tr>\n",
       "    <tr>\n",
       "      <th>1</th>\n",
       "      <td>35.847409</td>\n",
       "      <td>72.902198</td>\n",
       "      <td>0</td>\n",
       "    </tr>\n",
       "    <tr>\n",
       "      <th>2</th>\n",
       "      <td>60.182599</td>\n",
       "      <td>86.308552</td>\n",
       "      <td>1</td>\n",
       "    </tr>\n",
       "    <tr>\n",
       "      <th>3</th>\n",
       "      <td>79.032736</td>\n",
       "      <td>75.344376</td>\n",
       "      <td>1</td>\n",
       "    </tr>\n",
       "    <tr>\n",
       "      <th>4</th>\n",
       "      <td>45.083277</td>\n",
       "      <td>56.316372</td>\n",
       "      <td>0</td>\n",
       "    </tr>\n",
       "    <tr>\n",
       "      <th>...</th>\n",
       "      <td>...</td>\n",
       "      <td>...</td>\n",
       "      <td>...</td>\n",
       "    </tr>\n",
       "    <tr>\n",
       "      <th>95</th>\n",
       "      <td>42.261701</td>\n",
       "      <td>87.103851</td>\n",
       "      <td>1</td>\n",
       "    </tr>\n",
       "    <tr>\n",
       "      <th>96</th>\n",
       "      <td>99.315009</td>\n",
       "      <td>68.775409</td>\n",
       "      <td>1</td>\n",
       "    </tr>\n",
       "    <tr>\n",
       "      <th>97</th>\n",
       "      <td>55.340018</td>\n",
       "      <td>64.931938</td>\n",
       "      <td>1</td>\n",
       "    </tr>\n",
       "    <tr>\n",
       "      <th>98</th>\n",
       "      <td>74.775893</td>\n",
       "      <td>89.529813</td>\n",
       "      <td>1</td>\n",
       "    </tr>\n",
       "    <tr>\n",
       "      <th>99</th>\n",
       "      <td>34.623660</td>\n",
       "      <td>78.024693</td>\n",
       "      <td>0</td>\n",
       "    </tr>\n",
       "  </tbody>\n",
       "</table>\n",
       "<p>100 rows × 3 columns</p>\n",
       "</div>"
      ],
      "text/plain": [
       "    Oral Test  Written Test  Pass / Fail\n",
       "0   30.286711     43.894998            0\n",
       "1   35.847409     72.902198            0\n",
       "2   60.182599     86.308552            1\n",
       "3   79.032736     75.344376            1\n",
       "4   45.083277     56.316372            0\n",
       "..        ...           ...          ...\n",
       "95  42.261701     87.103851            1\n",
       "96  99.315009     68.775409            1\n",
       "97  55.340018     64.931938            1\n",
       "98  74.775893     89.529813            1\n",
       "99  34.623660     78.024693            0\n",
       "\n",
       "[100 rows x 3 columns]"
      ]
     },
     "execution_count": 4,
     "metadata": {},
     "output_type": "execute_result"
    }
   ],
   "source": [
    "df"
   ]
  },
  {
   "cell_type": "code",
   "execution_count": 15,
   "id": "9bc87e08-ea10-4173-b5b7-840406081853",
   "metadata": {},
   "outputs": [],
   "source": [
    "class Model:\n",
    "    def __init__(self, df, test_size):\n",
    "        self.df = df\n",
    "        self.features = self.df.drop(\"Pass / Fail\", axis='columns')\n",
    "        self.labels = self.df['Pass / Fail']\n",
    "        self.x_train, self.x_test, self.y_train, self.y_test = train_test_split(self.features, self.labels, test_size=test_size)\n",
    "    \n",
    "    def plot_train(self):\n",
    "        plt.scatter(self.x_train['Oral Test'], self.x_train['Written Test'], c=self.y_train)\n",
    "        plt.xlabel(\"Oral Test\")\n",
    "        plt.ylabel(\"Written Test\")\n",
    "        plt.show()\n",
    "        \n",
    "    def logistic_regression(self):\n",
    "        log_reg = LogisticRegression()\n",
    "        log_reg.fit(self.x_train, self.y_train)\n",
    "        \n",
    "        train_acc = log_reg.score(self.x_train, self.y_train)\n",
    "        test_acc = log_reg.score(self.x_test, self.y_test)\n",
    "        \n",
    "        print(\"Training Accuracy: \", train_acc)\n",
    "        print(\"Test Accuracy: \", test_acc)\n",
    "        \n",
    "    def descion_plot(self):\n",
    "        plt.scatter(self.x_test['Oral Test'], self.x_test['Written Test'], c=self.y_test)\n",
    "\n",
    "        dplot = plt.gca()\n",
    "        xlim = dplot.get_xlim()\n",
    "        ylim = dplot.get_ylim()\n",
    "\n",
    "\n",
    "        x = np.linspace(xlim[0], xlim[1], 30)\n",
    "        y = np.linspace(ylim[0], ylim[1], 30)\n",
    "        Y, X = np.meshgrid(y, x)\n",
    "        xy = np.vstack([X.ravel(), Y.ravel()]).T\n",
    "        model = LogisticRegression().fit(self.x_train, self.y_train)\n",
    "        P = model.decision_function(xy).reshape(X.shape)\n",
    "\n",
    "\n",
    "        dplot.contour(X, Y, P,levels=[0],linestyles=['-'])\n",
    "        dplot.set_xlim(xlim)\n",
    "        dplot.set_ylim(ylim)\n"
   ]
  },
  {
   "cell_type": "code",
   "execution_count": 16,
   "id": "cffd954f-e59c-4862-b4f6-3bc7dbdc2848",
   "metadata": {},
   "outputs": [
    {
     "data": {
      "image/png": "[encoded data removed]",
      "text/plain": [
       "<Figure size 432x288 with 1 Axes>"
      ]
     },
     "metadata": {
      "needs_background": "light"
     },
     "output_type": "display_data"
    }
   ],
   "source": [
    "model = Model(df, test_size=0.3)\n",
    "model.plot_train()"
   ]
  },
  {
   "cell_type": "code",
   "execution_count": 17,
   "id": "f13a8b09-8829-4c14-9962-34fc1a790c8e",
   "metadata": {},
   "outputs": [
    {
     "name": "stdout",
     "output_type": "stream",
     "text": [
      "Training Accuracy:  0.8714285714285714\n",
      "Test Accuracy:  0.9333333333333333\n"
     ]
    }
   ],
   "source": [
    "model.logistic_regression()"
   ]
  },
  {
   "cell_type": "code",
   "execution_count": 19,
   "id": "2e350446-6f89-4c7f-94f0-82a69785fdd2",
   "metadata": {},
   "outputs": [
    {
     "name": "stderr",
     "output_type": "stream",
     "text": [
      "C:\\Users\\Asus\\AppData\\Local\\Programs\\Python\\Python39\\lib\\site-packages\\sklearn\\base.py:445: UserWarning: X does not have valid feature names, but LogisticRegression was fitted with feature names\n",
      "  warnings.warn(\n"
     ]
    },
    {
     "data": {
      "image/png": "[encoded data removed]",
      "text/plain": [
       "<Figure size 432x288 with 1 Axes>"
      ]
     },
     "metadata": {
      "needs_background": "light"
     },
     "output_type": "display_data"
    }
   ],
   "source": [
    "model.descion_plot()\n",
    "plt.xlabel('Oral Test')\n",
    "plt.ylabel('Written Test')\n",
    "plt.show()"
   ]
  },
  {
   "cell_type": "code",
   "execution_count": null,
   "id": "c806f969",
   "metadata": {},
   "outputs": [],
   "source": []
  }
 ],
 "metadata": {
  "kernelspec": {
   "display_name": "Python 3 (ipykernel)",
   "language": "python",
   "name": "python3"
  },
  "language_info": {
   "codemirror_mode": {
    "name": "ipython",
    "version": 3
   },
   "file_extension": ".py",
   "mimetype": "text/x-python",
   "name": "python",
   "nbconvert_exporter": "python",
   "pygments_lexer": "ipython3",
   "version": "3.9.7"
  }
 },
 "nbformat": 4,
 "nbformat_minor": 5
}
